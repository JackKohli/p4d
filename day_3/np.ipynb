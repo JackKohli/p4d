{
 "cells": [
  {
   "cell_type": "code",
   "execution_count": 2,
   "id": "20ace89a-f766-434c-a8b4-a055c1ff2073",
   "metadata": {},
   "outputs": [],
   "source": [
    "import numpy as np"
   ]
  },
  {
   "cell_type": "code",
   "execution_count": 3,
   "id": "58a864a5-be08-4062-a5e7-d8176b8cc13e",
   "metadata": {},
   "outputs": [
    {
     "name": "stdout",
     "output_type": "stream",
     "text": [
      "[1 2 3 4 5]\n",
      "[ 2  4  6  8 10]\n"
     ]
    }
   ],
   "source": [
    "nums = np.arange(1,6)\n",
    "print(nums)\n",
    "print(nums*2)"
   ]
  },
  {
   "cell_type": "code",
   "execution_count": 4,
   "id": "5a425cf5-ed32-445a-becc-81fe4dbec64c",
   "metadata": {},
   "outputs": [
    {
     "name": "stdout",
     "output_type": "stream",
     "text": [
      "[[0. 0. 0.]\n",
      " [0. 0. 0.]]\n"
     ]
    }
   ],
   "source": [
    "zeros = np.zeros((2,3))\n",
    "print(zeros)"
   ]
  },
  {
   "cell_type": "code",
   "execution_count": 5,
   "id": "8893da94-ecd9-4bb5-ae2e-d8888faf78aa",
   "metadata": {},
   "outputs": [
    {
     "name": "stdout",
     "output_type": "stream",
     "text": [
      "[0 1 2 3 4 5 6 7 8 9]\n"
     ]
    }
   ],
   "source": [
    "range_arr = np.arange(10)\n",
    "print(range_arr)"
   ]
  },
  {
   "cell_type": "code",
   "execution_count": 6,
   "id": "7cbe7c92-7544-4db9-8336-f4e3422878a5",
   "metadata": {},
   "outputs": [
    {
     "name": "stdout",
     "output_type": "stream",
     "text": [
      "[[1. 1. 1. 1.]\n",
      " [1. 1. 1. 1.]\n",
      " [1. 1. 1. 1.]\n",
      " [1. 1. 1. 1.]]\n"
     ]
    }
   ],
   "source": [
    "ones = np.ones((4,4))\n",
    "print(ones)"
   ]
  },
  {
   "cell_type": "code",
   "execution_count": 7,
   "id": "06c9abfd-8412-41ed-bed3-c762cef220ce",
   "metadata": {},
   "outputs": [
    {
     "name": "stdout",
     "output_type": "stream",
     "text": [
      "[0.   0.25 0.5  0.75 1.  ]\n"
     ]
    }
   ],
   "source": [
    "spaced = np.linspace(0,1,5)\n",
    "print(spaced)"
   ]
  },
  {
   "cell_type": "markdown",
   "id": "8eea3ae3-cfeb-4f04-9ad9-d919b07785eb",
   "metadata": {},
   "source": [
    "## this is a title\n",
    "### subtitle\n",
    "#### sub-subtitle?\n",
    "<details>\n",
    "    this is a spoiler\n",
    "</details>\n"
   ]
  },
  {
   "cell_type": "code",
   "execution_count": 29,
   "id": "87586372-d0d2-46ce-9f7e-a1588624592f",
   "metadata": {},
   "outputs": [
    {
     "name": "stdout",
     "output_type": "stream",
     "text": [
      "[[1 2 3]\n",
      " [4 5 6]\n",
      " [7 8 9]]\n"
     ]
    }
   ],
   "source": [
    "nums = np.arange(1,10).reshape((3,3))\n",
    "print(nums)"
   ]
  },
  {
   "cell_type": "code",
   "execution_count": 18,
   "id": "306b0fbe-6335-4313-8769-31965e33b56d",
   "metadata": {},
   "outputs": [
    {
     "name": "stdout",
     "output_type": "stream",
     "text": [
      "2\n"
     ]
    }
   ],
   "source": [
    "print(nums[0][1])"
   ]
  },
  {
   "cell_type": "code",
   "execution_count": 19,
   "id": "b136b2f0-3e19-41cd-a32a-acdbafc1ae31",
   "metadata": {},
   "outputs": [
    {
     "name": "stdout",
     "output_type": "stream",
     "text": [
      "[2 5 8]\n"
     ]
    }
   ],
   "source": [
    "print(nums[:,1])"
   ]
  },
  {
   "cell_type": "code",
   "execution_count": 20,
   "id": "986edc61-6bbf-400c-9799-cfd9412a9ef3",
   "metadata": {},
   "outputs": [
    {
     "name": "stdout",
     "output_type": "stream",
     "text": [
      "[3 6 9]\n"
     ]
    }
   ],
   "source": [
    "print(nums[:,2])"
   ]
  },
  {
   "cell_type": "code",
   "execution_count": 21,
   "id": "1eb0faf3-adff-47fc-9c50-6fc950082162",
   "metadata": {},
   "outputs": [
    {
     "name": "stdout",
     "output_type": "stream",
     "text": [
      "[1 2 3 4 5]\n"
     ]
    }
   ],
   "source": [
    "five = np.arange(1,10)[:5]\n",
    "print(five)"
   ]
  },
  {
   "cell_type": "code",
   "execution_count": 23,
   "id": "2341887e-8e96-4d40-a05b-428d09275f1d",
   "metadata": {},
   "outputs": [
    {
     "name": "stdout",
     "output_type": "stream",
     "text": [
      "[[1 2 3]\n",
      " [4 5 6]]\n"
     ]
    }
   ],
   "source": [
    "print(nums[:2])"
   ]
  },
  {
   "cell_type": "code",
   "execution_count": 24,
   "id": "deafa452-4dfc-4f47-81e2-d0834311cb5f",
   "metadata": {},
   "outputs": [
    {
     "name": "stdout",
     "output_type": "stream",
     "text": [
      "[[5 6]\n",
      " [8 9]]\n"
     ]
    }
   ],
   "source": [
    "print(nums[1:,1:])"
   ]
  },
  {
   "cell_type": "code",
   "execution_count": 44,
   "id": "f77c008a-4789-4e60-85f5-0ca4a9b162c1",
   "metadata": {},
   "outputs": [
    {
     "name": "stdout",
     "output_type": "stream",
     "text": [
      "[[ 1  2  3]\n",
      " [ 4  5  6]\n",
      " [ 7  8  9]\n",
      " [10 11 12]]\n"
     ]
    }
   ],
   "source": [
    "my_nums = np.arange(1,13).reshape(4,3)\n",
    "print(my_nums)"
   ]
  },
  {
   "cell_type": "code",
   "execution_count": 41,
   "id": "759dca55-6bed-4622-b789-d6fcc83f26cf",
   "metadata": {},
   "outputs": [
    {
     "name": "stdout",
     "output_type": "stream",
     "text": [
      "[ 1  2  3  4  5  6  7  8  9 10 11 12]\n"
     ]
    }
   ],
   "source": [
    "print(my_nums.flatten())"
   ]
  },
  {
   "cell_type": "code",
   "execution_count": 42,
   "id": "931990bb-d8d5-4dff-a542-bc65cdcd656b",
   "metadata": {},
   "outputs": [
    {
     "name": "stdout",
     "output_type": "stream",
     "text": [
      "[ 2  5  8 11]\n"
     ]
    }
   ],
   "source": [
    "middle = my_nums[:,1]\n",
    "print(middle)"
   ]
  },
  {
   "cell_type": "code",
   "execution_count": 43,
   "id": "dcc81a2d-805e-4b13-a2f7-7afb1e44b00d",
   "metadata": {},
   "outputs": [
    {
     "name": "stdout",
     "output_type": "stream",
     "text": [
      "[ 2  5  8 11]\n"
     ]
    }
   ],
   "source": [
    "print(middle.flatten())"
   ]
  },
  {
   "cell_type": "code",
   "execution_count": 51,
   "id": "60807262-a79e-4055-8ae3-76670d70d40f",
   "metadata": {},
   "outputs": [
    {
     "name": "stdout",
     "output_type": "stream",
     "text": [
      "[1 2 3 4] [10 20 30 40]\n"
     ]
    }
   ],
   "source": [
    "a = np.arange(1,5)\n",
    "b = np.arange(10,41,10)\n",
    "print(a,b)"
   ]
  },
  {
   "cell_type": "code",
   "execution_count": 48,
   "id": "c69cf4aa-1dd0-4dd6-8b72-fa4ae1dafe92",
   "metadata": {},
   "outputs": [
    {
     "data": {
      "text/plain": [
       "array([11, 22, 33, 44])"
      ]
     },
     "execution_count": 48,
     "metadata": {},
     "output_type": "execute_result"
    }
   ],
   "source": [
    "a + b"
   ]
  },
  {
   "cell_type": "code",
   "execution_count": 49,
   "id": "31c0c025-e1b0-4923-9942-599712aa524f",
   "metadata": {},
   "outputs": [
    {
     "data": {
      "text/plain": [
       "array([ -9, -18, -27, -36])"
      ]
     },
     "execution_count": 49,
     "metadata": {},
     "output_type": "execute_result"
    }
   ],
   "source": [
    "a-b"
   ]
  },
  {
   "cell_type": "code",
   "execution_count": 52,
   "id": "19e5b003-256a-4418-8bff-d4379106207e",
   "metadata": {},
   "outputs": [
    {
     "data": {
      "text/plain": [
       "array([10., 10., 10., 10.])"
      ]
     },
     "execution_count": 52,
     "metadata": {},
     "output_type": "execute_result"
    }
   ],
   "source": [
    "b/a"
   ]
  },
  {
   "cell_type": "code",
   "execution_count": 53,
   "id": "71c4e12d-35a0-42e0-bd07-0768e6428644",
   "metadata": {},
   "outputs": [
    {
     "data": {
      "text/plain": [
       "array([3.16227766, 4.47213595, 5.47722558, 6.32455532])"
      ]
     },
     "execution_count": 53,
     "metadata": {},
     "output_type": "execute_result"
    }
   ],
   "source": [
    "np.sqrt(b)"
   ]
  },
  {
   "cell_type": "code",
   "execution_count": 54,
   "id": "33ad85aa-5f51-4136-a9d5-4facb4a5e90d",
   "metadata": {},
   "outputs": [
    {
     "data": {
      "text/plain": [
       "array([ 100,  400,  900, 1600])"
      ]
     },
     "execution_count": 54,
     "metadata": {},
     "output_type": "execute_result"
    }
   ],
   "source": [
    "np.pow(b,2)"
   ]
  },
  {
   "cell_type": "code",
   "execution_count": 55,
   "id": "1005b03d-1707-4c11-ba85-bf0db4ca5e7a",
   "metadata": {},
   "outputs": [
    {
     "data": {
      "text/plain": [
       "array([2.20264658e+04, 4.85165195e+08, 1.06864746e+13, 2.35385267e+17])"
      ]
     },
     "execution_count": 55,
     "metadata": {},
     "output_type": "execute_result"
    }
   ],
   "source": [
    "np.exp(b)"
   ]
  },
  {
   "cell_type": "code",
   "execution_count": 56,
   "id": "e150d526-a06f-4ae4-a103-c0399f1f226f",
   "metadata": {},
   "outputs": [],
   "source": [
    "three = np.arange(1,4)\n",
    "fives = three*5\n",
    "evens = three*2"
   ]
  },
  {
   "cell_type": "code",
   "execution_count": 57,
   "id": "bcaf093f-a26d-461d-957e-213dbdc45bbb",
   "metadata": {},
   "outputs": [
    {
     "data": {
      "text/plain": [
       "array([ 7, 14, 21])"
      ]
     },
     "execution_count": 57,
     "metadata": {},
     "output_type": "execute_result"
    }
   ],
   "source": [
    "fives+evens"
   ]
  },
  {
   "cell_type": "code",
   "execution_count": 58,
   "id": "0ae5ccec-1331-4c0f-96b5-881eed0f98fc",
   "metadata": {},
   "outputs": [
    {
     "data": {
      "text/plain": [
       "array([3, 6, 9])"
      ]
     },
     "execution_count": 58,
     "metadata": {},
     "output_type": "execute_result"
    }
   ],
   "source": [
    "fives-evens"
   ]
  },
  {
   "cell_type": "code",
   "execution_count": 59,
   "id": "78378396-f3eb-481f-a7c3-2f29439cd617",
   "metadata": {},
   "outputs": [
    {
     "data": {
      "text/plain": [
       "array([10, 40, 90])"
      ]
     },
     "execution_count": 59,
     "metadata": {},
     "output_type": "execute_result"
    }
   ],
   "source": [
    "fives*evens"
   ]
  },
  {
   "cell_type": "code",
   "execution_count": 60,
   "id": "c2749123-4c87-42e4-a1db-d19584d561f2",
   "metadata": {},
   "outputs": [
    {
     "data": {
      "text/plain": [
       "array([2.5, 2.5, 2.5])"
      ]
     },
     "execution_count": 60,
     "metadata": {},
     "output_type": "execute_result"
    }
   ],
   "source": [
    "fives/evens"
   ]
  },
  {
   "cell_type": "code",
   "execution_count": 61,
   "id": "1d9f3812-4d51-43f3-8056-6fdb04708d7c",
   "metadata": {},
   "outputs": [
    {
     "data": {
      "text/plain": [
       "array([ 125, 1000, 3375])"
      ]
     },
     "execution_count": 61,
     "metadata": {},
     "output_type": "execute_result"
    }
   ],
   "source": [
    "fives**3"
   ]
  },
  {
   "cell_type": "code",
   "execution_count": 68,
   "id": "81c7811f-42c8-4e27-bd8b-242b89d26fdf",
   "metadata": {},
   "outputs": [
    {
     "data": {
      "text/plain": [
       "array([1, 2, 3, 4, 5, 6, 7, 8, 9])"
      ]
     },
     "execution_count": 68,
     "metadata": {},
     "output_type": "execute_result"
    }
   ],
   "source": [
    "my_list = [[y*3 + x for x in range(1,4)] for y in range(3)]\n",
    "np.ravel(my_list)"
   ]
  },
  {
   "cell_type": "code",
   "execution_count": 73,
   "id": "41947ab5-664a-423e-869b-ac585f6fd616",
   "metadata": {},
   "outputs": [],
   "source": [
    "arr_2d = np.arange(1,7).reshape(2,3)\n",
    "tens = np.arange(10,31,10)"
   ]
  },
  {
   "cell_type": "code",
   "execution_count": 77,
   "id": "350eb7f9-47eb-435a-bf7f-98857988ab4a",
   "metadata": {},
   "outputs": [
    {
     "data": {
      "text/plain": [
       "array([[11, 22, 33],\n",
       "       [14, 25, 36]])"
      ]
     },
     "execution_count": 77,
     "metadata": {},
     "output_type": "execute_result"
    }
   ],
   "source": [
    "arr_2d + tens"
   ]
  },
  {
   "cell_type": "code",
   "execution_count": 82,
   "id": "fd74ddac-661f-4671-a15d-ec5d1b30c1ed",
   "metadata": {},
   "outputs": [],
   "source": [
    "my_arr = np.arange(2,9,2)*.5\n",
    "arr_3x3 = np.arange(1,10).reshape(3,3)\n",
    "arr_3x3 += np.arange(1,4)\n",
    "arr_2x3 = np.arange(1,7).reshape(2,3)\n",
    "arr_2x3 += 10"
   ]
  },
  {
   "cell_type": "code",
   "execution_count": 83,
   "id": "31a92878-bc1c-48f7-a121-8b413b3f4d23",
   "metadata": {},
   "outputs": [
    {
     "data": {
      "text/plain": [
       "array([1., 2., 3., 4.])"
      ]
     },
     "execution_count": 83,
     "metadata": {},
     "output_type": "execute_result"
    }
   ],
   "source": [
    "my_arr"
   ]
  },
  {
   "cell_type": "code",
   "execution_count": 84,
   "id": "0b01ce5b-8d8b-4b1d-b5f8-7c1bcd4f8c54",
   "metadata": {},
   "outputs": [
    {
     "data": {
      "text/plain": [
       "array([[ 2,  4,  6],\n",
       "       [ 5,  7,  9],\n",
       "       [ 8, 10, 12]])"
      ]
     },
     "execution_count": 84,
     "metadata": {},
     "output_type": "execute_result"
    }
   ],
   "source": [
    "arr_3x3"
   ]
  },
  {
   "cell_type": "code",
   "execution_count": 85,
   "id": "3a6ba7d5-3605-4cb9-97ed-fa08092327d9",
   "metadata": {},
   "outputs": [
    {
     "data": {
      "text/plain": [
       "array([[11, 12, 13],\n",
       "       [14, 15, 16]])"
      ]
     },
     "execution_count": 85,
     "metadata": {},
     "output_type": "execute_result"
    }
   ],
   "source": [
    "arr_2x3"
   ]
  },
  {
   "cell_type": "code",
   "execution_count": 121,
   "id": "50e3d1cd-7e1a-427d-874a-312c560bda08",
   "metadata": {},
   "outputs": [
    {
     "name": "stdout",
     "output_type": "stream",
     "text": [
      "0.08674931526184082\n"
     ]
    }
   ],
   "source": [
    "import time\n",
    "\n",
    "long_list = [x for x in range(1000000)]\n",
    "start = time.time()\n",
    "long_list_mult = list(map(lambda x: x*2, long_list))\n",
    "end = time.time()\n",
    "print(end-start)"
   ]
  },
  {
   "cell_type": "code",
   "execution_count": 122,
   "id": "da035a53-3481-42a0-a6d7-3e4a94cea3b6",
   "metadata": {},
   "outputs": [
    {
     "name": "stdout",
     "output_type": "stream",
     "text": [
      "0.06059885025024414\n"
     ]
    }
   ],
   "source": [
    "start = time.time()\n",
    "long_list_mult = [x*2 for x in long_list]\n",
    "end = time.time()\n",
    "print(end-start)"
   ]
  },
  {
   "cell_type": "code",
   "execution_count": 123,
   "id": "e6418b74-1458-4d68-95a2-908b769a4d8c",
   "metadata": {},
   "outputs": [
    {
     "name": "stdout",
     "output_type": "stream",
     "text": [
      "0.002916097640991211\n"
     ]
    }
   ],
   "source": [
    "np_long_list = np.array(long_list)\n",
    "start = time.time()\n",
    "np_long_mult = np_long_list * 2\n",
    "end = time.time()\n",
    "print(end-start)"
   ]
  },
  {
   "cell_type": "code",
   "execution_count": 133,
   "id": "c1a919d9-129f-47a5-820b-2158471df1b8",
   "metadata": {},
   "outputs": [
    {
     "name": "stdout",
     "output_type": "stream",
     "text": [
      "0.0604095458984375\n"
     ]
    }
   ],
   "source": [
    "def timer(func):\n",
    "    def closure():\n",
    "        start = time.time()\n",
    "        func()\n",
    "        end = time.time()\n",
    "        print(end-start)\n",
    "    return closure\n",
    "\n",
    "timer(lambda : [x*2 for x in long_list])()"
   ]
  },
  {
   "cell_type": "code",
   "execution_count": 161,
   "id": "8d932b1e-c8cf-45c1-9e18-c58039762738",
   "metadata": {},
   "outputs": [
    {
     "name": "stdout",
     "output_type": "stream",
     "text": [
      "[3 0 0 1 1 4 5 4 0 2]\n"
     ]
    }
   ],
   "source": [
    "print(np.random.randint(1,7, size=10))"
   ]
  },
  {
   "cell_type": "code",
   "execution_count": 167,
   "id": "c0dc5c47-ad45-44db-a17c-5bf66c7cf55b",
   "metadata": {},
   "outputs": [
    {
     "name": "stdout",
     "output_type": "stream",
     "text": [
      "[[0.30003104 0.82395615 0.21050204 0.05428387]\n",
      " [0.16573435 0.09075541 0.60580888 0.02369287]\n",
      " [0.41175391 0.56230769 0.13297474 0.45017871]\n",
      " [0.12209962 0.23746638 0.8978963  0.24154334]\n",
      " [0.81270895 0.43114819 0.76685519 0.93749937]]\n"
     ]
    }
   ],
   "source": [
    "print(np.random.random([5,4]))"
   ]
  },
  {
   "cell_type": "code",
   "execution_count": 170,
   "id": "97dc3a69-8558-489e-9d29-773d3142dfc6",
   "metadata": {},
   "outputs": [
    {
     "name": "stdout",
     "output_type": "stream",
     "text": [
      "[ 0.75093286 -0.64510207 -0.11338732  0.6504083  -0.48594455  1.56921171\n",
      " -0.75108579  1.89766793  0.02701427 -2.13495186]\n"
     ]
    }
   ],
   "source": [
    "print(np.random.randn((10)))"
   ]
  },
  {
   "cell_type": "code",
   "execution_count": 404,
   "id": "fa1970c2-56dc-44a4-8786-85303d1c7776",
   "metadata": {},
   "outputs": [
    {
     "name": "stdout",
     "output_type": "stream",
     "text": [
      "1\n",
      "6\n",
      "[4 4 3 5 4 5 3 1 2 6 2 5 2 5 5 6 2 6 3 6]\n"
     ]
    }
   ],
   "source": [
    "dice = np.random.randint(1, 7, 20)\n",
    "print(min(dice))\n",
    "print(max(dice))\n",
    "print(dice)"
   ]
  },
  {
   "cell_type": "code",
   "execution_count": 252,
   "id": "514e818c-6f9d-4556-b509-a5b70a8104fb",
   "metadata": {},
   "outputs": [
    {
     "name": "stdout",
     "output_type": "stream",
     "text": [
      "[2.49986535 6.00979139 1.5857016  9.48781174 8.29791498 1.28483764\n",
      " 2.25215558 6.8322495  5.51689566 5.84207133]\n"
     ]
    }
   ],
   "source": [
    "rand_arr = np.random.random(10)*10\n",
    "print(rand_arr)"
   ]
  },
  {
   "cell_type": "code",
   "execution_count": 310,
   "id": "4ca4e7f5-5b70-4068-a2dd-47fa51120d4f",
   "metadata": {},
   "outputs": [
    {
     "name": "stdout",
     "output_type": "stream",
     "text": [
      "[-0.32547804  0.62155863 -0.9971795   1.1403866  -0.32544441  1.25099368\n",
      " -0.37953513  0.11576523 -0.8408661  -0.32555249]\n"
     ]
    }
   ],
   "source": [
    "rand_normal = np.random.randn(1000)\n",
    "print(rand_normal[:10])"
   ]
  },
  {
   "cell_type": "code",
   "execution_count": 484,
   "id": "0a45461e-4c53-4fec-8ab7-5b78435370eb",
   "metadata": {},
   "outputs": [
    {
     "name": "stdout",
     "output_type": "stream",
     "text": [
      "76\n",
      "3.8\n",
      "4.5\n",
      "1.7776388834631176\n"
     ]
    }
   ],
   "source": [
    "dice = np.random.randint(1, 7, 20)\n",
    "print(dice.sum())\n",
    "print(dice.mean())\n",
    "print(np.median(dice))\n",
    "print(dice.std())"
   ]
  },
  {
   "cell_type": "code",
   "execution_count": 487,
   "id": "1d3ddb8e-31b8-4feb-8976-5710c10d7cd2",
   "metadata": {},
   "outputs": [
    {
     "name": "stdout",
     "output_type": "stream",
     "text": [
      "2945\n",
      "58.9\n",
      "61.0\n",
      "28.53927118901252\n"
     ]
    }
   ],
   "source": [
    "rand_50 = np.random.randint(10,101,50)\n",
    "print(np.sum(rand_50))\n",
    "print(np.mean(rand_50))\n",
    "print(np.median(rand_50))\n",
    "print(np.std(rand_50))"
   ]
  },
  {
   "cell_type": "code",
   "execution_count": 494,
   "id": "ee71e87b-23ce-4de7-ab62-b1e3222ee07b",
   "metadata": {},
   "outputs": [
    {
     "name": "stdout",
     "output_type": "stream",
     "text": [
      "[[ 1  2  3  4  5  6  7  8  9 10]\n",
      " [11 12 13 14 15 16 17 18 19 20]]\n"
     ]
    }
   ],
   "source": [
    "stack_1 = np.arange(1,11)\n",
    "stack_2 = np.arange(11,21)\n",
    "stacked = np.stack((stack_1, stack_2), axis=0)\n",
    "print(stacked)"
   ]
  },
  {
   "cell_type": "code",
   "execution_count": 502,
   "id": "e1f89a7e-9948-4891-b3fc-4d3fa349f10a",
   "metadata": {},
   "outputs": [
    {
     "name": "stdout",
     "output_type": "stream",
     "text": [
      "[[11  7  9  6]\n",
      " [ 9 13  8 12]\n",
      " [ 9  2  0  8]\n",
      " [ 5 14  0 11]]\n"
     ]
    }
   ],
   "source": [
    "arr_4x4 = np.random.randint(0,15, 16).reshape(4,4)\n",
    "print(arr_4x4)"
   ]
  },
  {
   "cell_type": "code",
   "execution_count": 500,
   "id": "e95b213e-ccd4-4083-8aab-fb8eb68d9a4f",
   "metadata": {},
   "outputs": [
    {
     "name": "stdout",
     "output_type": "stream",
     "text": [
      "[[ 1  2  3  4  5  6  7  8  9 10]\n",
      " [11 12 13 14 15 16 17 18 19 20]]\n",
      "[[ 1 11]\n",
      " [ 2 12]\n",
      " [ 3 13]\n",
      " [ 4 14]\n",
      " [ 5 15]\n",
      " [ 6 16]\n",
      " [ 7 17]\n",
      " [ 8 18]\n",
      " [ 9 19]\n",
      " [10 20]]\n"
     ]
    }
   ],
   "source": [
    "stack_1 = np.arange(1,11)\n",
    "stack_2 = np.arange(11,21)\n",
    "print(np.stack((stack_1,stack_2)))\n",
    "print(np.stack((stack_1,stack_2),axis=1))"
   ]
  },
  {
   "cell_type": "code",
   "execution_count": 501,
   "id": "d2509d20-7f44-4dc0-b85d-4604a141d0e4",
   "metadata": {},
   "outputs": [
    {
     "name": "stdout",
     "output_type": "stream",
     "text": [
      "[[5 6 3 3 3]\n",
      " [1 5 5 2 1]]\n",
      "(2, 5)\n"
     ]
    }
   ],
   "source": [
    "dice_1 = np.random.randint(1,7,5)\n",
    "dice_2 = np.random.randint(1,7,5)\n",
    "dice_stack = np.stack((dice_1,dice_2))\n",
    "print(dice_stack)\n",
    "print(dice_stack.shape)"
   ]
  }
 ],
 "metadata": {
  "kernelspec": {
   "display_name": "Python 3 (ipykernel)",
   "language": "python",
   "name": "python3"
  },
  "language_info": {
   "codemirror_mode": {
    "name": "ipython",
    "version": 3
   },
   "file_extension": ".py",
   "mimetype": "text/x-python",
   "name": "python",
   "nbconvert_exporter": "python",
   "pygments_lexer": "ipython3",
   "version": "3.13.7"
  }
 },
 "nbformat": 4,
 "nbformat_minor": 5
}
