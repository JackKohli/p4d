{
 "cells": [
  {
   "cell_type": "code",
   "execution_count": 19,
   "id": "ad516809-5c89-46bd-b228-9b59cd97bc3a",
   "metadata": {},
   "outputs": [],
   "source": [
    "import pandas as pd"
   ]
  },
  {
   "cell_type": "code",
   "execution_count": 20,
   "id": "04ac6d24-4d9e-4b6d-9622-f5c7eae47ba3",
   "metadata": {},
   "outputs": [
    {
     "data": {
      "text/html": [
       "<div>\n",
       "<style scoped>\n",
       "    .dataframe tbody tr th:only-of-type {\n",
       "        vertical-align: middle;\n",
       "    }\n",
       "\n",
       "    .dataframe tbody tr th {\n",
       "        vertical-align: top;\n",
       "    }\n",
       "\n",
       "    .dataframe thead th {\n",
       "        text-align: right;\n",
       "    }\n",
       "</style>\n",
       "<table border=\"1\" class=\"dataframe\">\n",
       "  <thead>\n",
       "    <tr style=\"text-align: right;\">\n",
       "      <th></th>\n",
       "      <th>date</th>\n",
       "      <th>open</th>\n",
       "      <th>high</th>\n",
       "      <th>low</th>\n",
       "      <th>close</th>\n",
       "      <th>adj_close</th>\n",
       "      <th>volume</th>\n",
       "    </tr>\n",
       "  </thead>\n",
       "  <tbody>\n",
       "    <tr>\n",
       "      <th>0</th>\n",
       "      <td>2004-11-18</td>\n",
       "      <td>44.380001</td>\n",
       "      <td>44.380001</td>\n",
       "      <td>44.490002</td>\n",
       "      <td>44.070000</td>\n",
       "      <td>44.430000</td>\n",
       "      <td>5992000</td>\n",
       "    </tr>\n",
       "    <tr>\n",
       "      <th>1</th>\n",
       "      <td>2004-11-19</td>\n",
       "      <td>44.779999</td>\n",
       "      <td>44.779999</td>\n",
       "      <td>44.919998</td>\n",
       "      <td>44.470001</td>\n",
       "      <td>44.490002</td>\n",
       "      <td>11655300</td>\n",
       "    </tr>\n",
       "    <tr>\n",
       "      <th>2</th>\n",
       "      <td>2004-11-22</td>\n",
       "      <td>44.950001</td>\n",
       "      <td>44.950001</td>\n",
       "      <td>44.970001</td>\n",
       "      <td>44.740002</td>\n",
       "      <td>44.750000</td>\n",
       "      <td>11996000</td>\n",
       "    </tr>\n",
       "    <tr>\n",
       "      <th>3</th>\n",
       "      <td>2004-11-23</td>\n",
       "      <td>44.750000</td>\n",
       "      <td>44.750000</td>\n",
       "      <td>44.919998</td>\n",
       "      <td>44.720001</td>\n",
       "      <td>44.880001</td>\n",
       "      <td>3169200</td>\n",
       "    </tr>\n",
       "    <tr>\n",
       "      <th>4</th>\n",
       "      <td>2004-11-24</td>\n",
       "      <td>45.049999</td>\n",
       "      <td>45.049999</td>\n",
       "      <td>45.049999</td>\n",
       "      <td>44.790001</td>\n",
       "      <td>44.930000</td>\n",
       "      <td>6105100</td>\n",
       "    </tr>\n",
       "    <tr>\n",
       "      <th>5</th>\n",
       "      <td>2004-11-26</td>\n",
       "      <td>45.290001</td>\n",
       "      <td>45.290001</td>\n",
       "      <td>45.599998</td>\n",
       "      <td>45.060001</td>\n",
       "      <td>45.250000</td>\n",
       "      <td>3097700</td>\n",
       "    </tr>\n",
       "    <tr>\n",
       "      <th>6</th>\n",
       "      <td>2004-11-29</td>\n",
       "      <td>45.400002</td>\n",
       "      <td>45.400002</td>\n",
       "      <td>45.500000</td>\n",
       "      <td>45.080002</td>\n",
       "      <td>45.099998</td>\n",
       "      <td>3759000</td>\n",
       "    </tr>\n",
       "    <tr>\n",
       "      <th>7</th>\n",
       "      <td>2004-11-30</td>\n",
       "      <td>45.119999</td>\n",
       "      <td>45.119999</td>\n",
       "      <td>45.410000</td>\n",
       "      <td>44.820000</td>\n",
       "      <td>45.369999</td>\n",
       "      <td>3857200</td>\n",
       "    </tr>\n",
       "    <tr>\n",
       "      <th>8</th>\n",
       "      <td>2004-12-01</td>\n",
       "      <td>45.380001</td>\n",
       "      <td>45.380001</td>\n",
       "      <td>45.590000</td>\n",
       "      <td>45.259998</td>\n",
       "      <td>45.279999</td>\n",
       "      <td>2037500</td>\n",
       "    </tr>\n",
       "    <tr>\n",
       "      <th>9</th>\n",
       "      <td>2004-12-02</td>\n",
       "      <td>44.950001</td>\n",
       "      <td>44.950001</td>\n",
       "      <td>45.570000</td>\n",
       "      <td>44.680000</td>\n",
       "      <td>45.549999</td>\n",
       "      <td>6457800</td>\n",
       "    </tr>\n",
       "  </tbody>\n",
       "</table>\n",
       "</div>"
      ],
      "text/plain": [
       "         date       open       high        low      close  adj_close    volume\n",
       "0  2004-11-18  44.380001  44.380001  44.490002  44.070000  44.430000   5992000\n",
       "1  2004-11-19  44.779999  44.779999  44.919998  44.470001  44.490002  11655300\n",
       "2  2004-11-22  44.950001  44.950001  44.970001  44.740002  44.750000  11996000\n",
       "3  2004-11-23  44.750000  44.750000  44.919998  44.720001  44.880001   3169200\n",
       "4  2004-11-24  45.049999  45.049999  45.049999  44.790001  44.930000   6105100\n",
       "5  2004-11-26  45.290001  45.290001  45.599998  45.060001  45.250000   3097700\n",
       "6  2004-11-29  45.400002  45.400002  45.500000  45.080002  45.099998   3759000\n",
       "7  2004-11-30  45.119999  45.119999  45.410000  44.820000  45.369999   3857200\n",
       "8  2004-12-01  45.380001  45.380001  45.590000  45.259998  45.279999   2037500\n",
       "9  2004-12-02  44.950001  44.950001  45.570000  44.680000  45.549999   6457800"
      ]
     },
     "execution_count": 20,
     "metadata": {},
     "output_type": "execute_result"
    }
   ],
   "source": [
    "df = pd.read_csv(\"gold_price_data.csv\")\n",
    "df.head(10)"
   ]
  },
  {
   "cell_type": "code",
   "execution_count": 21,
   "id": "30006f88-0e90-4b2b-8e79-9a7cd9417325",
   "metadata": {},
   "outputs": [
    {
     "name": "stdout",
     "output_type": "stream",
     "text": [
      "mean_closing: 131.25655610915683\n"
     ]
    }
   ],
   "source": [
    "mean_closing = df[\"close\"].mean()\n",
    "print(\"mean_closing:\", mean_closing)"
   ]
  },
  {
   "cell_type": "code",
   "execution_count": 22,
   "id": "d6225caa-97f1-4a3d-9e11-dab051ef4a09",
   "metadata": {},
   "outputs": [
    {
     "name": "stdout",
     "output_type": "stream",
     "text": [
      "median_closing: 123.9800033569336\n"
     ]
    }
   ],
   "source": [
    "med_closing = df[\"close\"].median()\n",
    "print(\"median_closing:\", med_closing)"
   ]
  },
  {
   "cell_type": "code",
   "execution_count": 23,
   "id": "353dcaf8-ea61-4a1a-8381-cc1da3685323",
   "metadata": {},
   "outputs": [
    {
     "name": "stdout",
     "output_type": "stream",
     "text": [
      "std_closing: 51.073175174715935\n"
     ]
    }
   ],
   "source": [
    "std_closing = df[\"close\"].std()\n",
    "print(\"std_closing:\", std_closing)"
   ]
  },
  {
   "cell_type": "code",
   "execution_count": 24,
   "id": "64e402b1-99f2-42d7-9ec8-5d8d6cd2337f",
   "metadata": {},
   "outputs": [
    {
     "name": "stdout",
     "output_type": "stream",
     "text": [
      "max_closing: 315.0400085449219\n"
     ]
    }
   ],
   "source": [
    "max_closing = df[\"close\"].max()\n",
    "print(\"max_closing:\", max_closing)"
   ]
  },
  {
   "cell_type": "code",
   "execution_count": 25,
   "id": "aed8f08e-58f4-44fb-9815-eca36a30be12",
   "metadata": {},
   "outputs": [
    {
     "name": "stdout",
     "output_type": "stream",
     "text": [
      "min_closing: 41.02000045776367\n"
     ]
    }
   ],
   "source": [
    "min_closing = df[\"close\"].min()\n",
    "print(\"min_closing:\", min_closing)"
   ]
  },
  {
   "cell_type": "code",
   "execution_count": 26,
   "id": "c69d004e-48b8-42a1-8e30-8a5e07143c0e",
   "metadata": {},
   "outputs": [
    {
     "name": "stdout",
     "output_type": "stream",
     "text": [
      "274.0200080871582\n"
     ]
    }
   ],
   "source": [
    "close_range = max_closing - min_closing\n",
    "print(close_range)"
   ]
  },
  {
   "cell_type": "code",
   "execution_count": 27,
   "id": "00aadf2f-3ccb-4d9f-85d5-2fe7f499a321",
   "metadata": {},
   "outputs": [
    {
     "name": "stdout",
     "output_type": "stream",
     "text": [
      "5174    2025-06-13\n",
      "Name: date, dtype: object\n"
     ]
    }
   ],
   "source": [
    "days_max = df[\"date\"][df[\"close\"]==max_closing]\n",
    "print(days_max)"
   ]
  },
  {
   "cell_type": "code",
   "execution_count": 28,
   "id": "3971cf38-8f92-44ec-b306-a297c45c6c9e",
   "metadata": {
    "scrolled": true
   },
   "outputs": [
    {
     "data": {
      "text/plain": [
       "0     2004-11-18\n",
       "1     2004-11-19\n",
       "2     2004-11-22\n",
       "3     2004-11-23\n",
       "4     2004-11-24\n",
       "5     2004-11-26\n",
       "6     2004-11-29\n",
       "7     2004-11-30\n",
       "8     2004-12-01\n",
       "9     2004-12-02\n",
       "10    2004-12-03\n",
       "11    2004-12-06\n",
       "12    2004-12-07\n",
       "13    2004-12-08\n",
       "14    2004-12-09\n",
       "15    2004-12-10\n",
       "16    2004-12-13\n",
       "17    2004-12-14\n",
       "18    2004-12-15\n",
       "19    2004-12-16\n",
       "20    2004-12-17\n",
       "21    2004-12-20\n",
       "22    2004-12-21\n",
       "23    2004-12-22\n",
       "24    2004-12-23\n",
       "25    2004-12-27\n",
       "26    2004-12-28\n",
       "27    2004-12-29\n",
       "28    2004-12-30\n",
       "29    2004-12-31\n",
       "Name: date, dtype: object"
      ]
     },
     "execution_count": 28,
     "metadata": {},
     "output_type": "execute_result"
    }
   ],
   "source": [
    "all_days = df[\"date\"]\n",
    "first_30_days = all_days[0:30]\n",
    "first_30_days"
   ]
  },
  {
   "cell_type": "code",
   "execution_count": 29,
   "id": "a849bc74-c78d-434c-95ca-e5a12dfdfcb1",
   "metadata": {
    "scrolled": true
   },
   "outputs": [
    {
     "data": {
      "text/plain": [
       "5185    2025-07-01\n",
       "5186    2025-07-02\n",
       "5187    2025-07-03\n",
       "5188    2025-07-07\n",
       "5189    2025-07-08\n",
       "5190    2025-07-09\n",
       "5191    2025-07-10\n",
       "5192    2025-07-11\n",
       "5193    2025-07-14\n",
       "5194    2025-07-15\n",
       "5195    2025-07-16\n",
       "5196    2025-07-17\n",
       "5197    2025-07-18\n",
       "5198    2025-07-21\n",
       "5199    2025-07-22\n",
       "5200    2025-07-23\n",
       "5201    2025-07-24\n",
       "5202    2025-07-25\n",
       "5203    2025-07-28\n",
       "5204    2025-07-29\n",
       "5205    2025-07-30\n",
       "5206    2025-07-31\n",
       "5207    2025-08-01\n",
       "5208    2025-08-04\n",
       "5209    2025-08-05\n",
       "5210    2025-08-06\n",
       "5211    2025-08-07\n",
       "5212    2025-08-08\n",
       "5213    2025-08-11\n",
       "5214    2025-08-12\n",
       "Name: date, dtype: object"
      ]
     },
     "execution_count": 29,
     "metadata": {},
     "output_type": "execute_result"
    }
   ],
   "source": [
    "last_30_days = all_days[-30:]\n",
    "last_30_days"
   ]
  },
  {
   "cell_type": "code",
   "execution_count": 60,
   "id": "b9679a2b-fdb1-494e-8a07-3600f6d02255",
   "metadata": {},
   "outputs": [],
   "source": [
    "# while len(all_days)%30:\n",
    "#     all_days = pd.concat((all_days, pd.Series([None,], index=[len(all_days),])))\n",
    "# all_days"
   ]
  },
  {
   "cell_type": "code",
   "execution_count": 61,
   "id": "b87447c2-1b55-4ffa-8bbc-7edfc03cf304",
   "metadata": {},
   "outputs": [],
   "source": [
    "# reshaped = all_days.values.reshape(-1,30)\n",
    "# reshaped"
   ]
  },
  {
   "cell_type": "code",
   "execution_count": 62,
   "id": "532452f6-7df7-49df-baf5-11cd2e71e2cd",
   "metadata": {},
   "outputs": [],
   "source": [
    "# type(reshaped)"
   ]
  },
  {
   "cell_type": "code",
   "execution_count": 100,
   "id": "8c2a1141-6794-44a0-a35e-7fe7419e5ff9",
   "metadata": {},
   "outputs": [],
   "source": [
    "day_close = pd.DataFrame(df[[\"date\",\"close\"]])\n",
    "day_close[\"date\"] = pd.to_datetime(day_close[\"date\"])"
   ]
  },
  {
   "cell_type": "code",
   "execution_count": 116,
   "id": "aaa7ba1a-febb-4733-9700-8c76fafdce58",
   "metadata": {},
   "outputs": [
    {
     "name": "stdout",
     "output_type": "stream",
     "text": [
      "change from first month to last month: 264.5212507247925\n"
     ]
    }
   ],
   "source": [
    "monthly_means = day_close.groupby([day_close[\"date\"].dt.year, day_close[\"date\"].dt.month]).agg(pd.Series.mean)\n",
    "print(\"change from first month to last month:\", monthly_means.iloc[-1][\"close\"] - monthly_means.iloc[0][\"close\"])"
   ]
  },
  {
   "cell_type": "code",
   "execution_count": 139,
   "id": "beddfa6c-dee7-49f0-9b00-9374191d8ba6",
   "metadata": {
    "scrolled": true
   },
   "outputs": [
    {
     "data": {
      "text/html": [
       "<div>\n",
       "<style scoped>\n",
       "    .dataframe tbody tr th:only-of-type {\n",
       "        vertical-align: middle;\n",
       "    }\n",
       "\n",
       "    .dataframe tbody tr th {\n",
       "        vertical-align: top;\n",
       "    }\n",
       "\n",
       "    .dataframe thead th {\n",
       "        text-align: right;\n",
       "    }\n",
       "</style>\n",
       "<table border=\"1\" class=\"dataframe\">\n",
       "  <thead>\n",
       "    <tr style=\"text-align: right;\">\n",
       "      <th></th>\n",
       "      <th>date</th>\n",
       "      <th>open</th>\n",
       "      <th>high</th>\n",
       "      <th>low</th>\n",
       "      <th>close</th>\n",
       "      <th>adj_close</th>\n",
       "      <th>volume</th>\n",
       "      <th>daily_change</th>\n",
       "    </tr>\n",
       "  </thead>\n",
       "  <tbody>\n",
       "    <tr>\n",
       "      <th>5195</th>\n",
       "      <td>2025-07-16</td>\n",
       "      <td>308.260010</td>\n",
       "      <td>308.260010</td>\n",
       "      <td>311.089996</td>\n",
       "      <td>305.730011</td>\n",
       "      <td>307.109985</td>\n",
       "      <td>17693100</td>\n",
       "      <td>-1.150024</td>\n",
       "    </tr>\n",
       "    <tr>\n",
       "      <th>5196</th>\n",
       "      <td>2025-07-17</td>\n",
       "      <td>307.589996</td>\n",
       "      <td>307.589996</td>\n",
       "      <td>307.670013</td>\n",
       "      <td>305.119995</td>\n",
       "      <td>305.500000</td>\n",
       "      <td>6642300</td>\n",
       "      <td>-2.089996</td>\n",
       "    </tr>\n",
       "    <tr>\n",
       "      <th>5197</th>\n",
       "      <td>2025-07-18</td>\n",
       "      <td>308.390015</td>\n",
       "      <td>308.390015</td>\n",
       "      <td>309.369995</td>\n",
       "      <td>308.320007</td>\n",
       "      <td>309.239990</td>\n",
       "      <td>5574300</td>\n",
       "      <td>0.849976</td>\n",
       "    </tr>\n",
       "    <tr>\n",
       "      <th>5198</th>\n",
       "      <td>2025-07-21</td>\n",
       "      <td>313.130005</td>\n",
       "      <td>313.130005</td>\n",
       "      <td>313.309998</td>\n",
       "      <td>311.609985</td>\n",
       "      <td>311.880005</td>\n",
       "      <td>10995800</td>\n",
       "      <td>-1.250000</td>\n",
       "    </tr>\n",
       "    <tr>\n",
       "      <th>5199</th>\n",
       "      <td>2025-07-22</td>\n",
       "      <td>316.100006</td>\n",
       "      <td>316.100006</td>\n",
       "      <td>316.239990</td>\n",
       "      <td>313.619995</td>\n",
       "      <td>314.480011</td>\n",
       "      <td>13691800</td>\n",
       "      <td>-1.619995</td>\n",
       "    </tr>\n",
       "    <tr>\n",
       "      <th>5200</th>\n",
       "      <td>2025-07-23</td>\n",
       "      <td>312.179993</td>\n",
       "      <td>312.179993</td>\n",
       "      <td>314.959991</td>\n",
       "      <td>311.420013</td>\n",
       "      <td>314.000000</td>\n",
       "      <td>10547500</td>\n",
       "      <td>1.820007</td>\n",
       "    </tr>\n",
       "    <tr>\n",
       "      <th>5201</th>\n",
       "      <td>2025-07-24</td>\n",
       "      <td>310.269989</td>\n",
       "      <td>310.269989</td>\n",
       "      <td>310.989990</td>\n",
       "      <td>309.059998</td>\n",
       "      <td>309.290009</td>\n",
       "      <td>7698800</td>\n",
       "      <td>-0.979980</td>\n",
       "    </tr>\n",
       "    <tr>\n",
       "      <th>5202</th>\n",
       "      <td>2025-07-25</td>\n",
       "      <td>307.399994</td>\n",
       "      <td>307.399994</td>\n",
       "      <td>308.309998</td>\n",
       "      <td>306.200012</td>\n",
       "      <td>307.820007</td>\n",
       "      <td>9376400</td>\n",
       "      <td>0.420013</td>\n",
       "    </tr>\n",
       "    <tr>\n",
       "      <th>5203</th>\n",
       "      <td>2025-07-28</td>\n",
       "      <td>305.410004</td>\n",
       "      <td>305.410004</td>\n",
       "      <td>306.579987</td>\n",
       "      <td>304.049988</td>\n",
       "      <td>306.440002</td>\n",
       "      <td>9275400</td>\n",
       "      <td>1.029999</td>\n",
       "    </tr>\n",
       "    <tr>\n",
       "      <th>5204</th>\n",
       "      <td>2025-07-29</td>\n",
       "      <td>306.250000</td>\n",
       "      <td>306.250000</td>\n",
       "      <td>307.029999</td>\n",
       "      <td>304.989990</td>\n",
       "      <td>305.799988</td>\n",
       "      <td>5741100</td>\n",
       "      <td>-0.450012</td>\n",
       "    </tr>\n",
       "    <tr>\n",
       "      <th>5205</th>\n",
       "      <td>2025-07-30</td>\n",
       "      <td>300.959991</td>\n",
       "      <td>300.959991</td>\n",
       "      <td>304.649994</td>\n",
       "      <td>300.959991</td>\n",
       "      <td>304.420013</td>\n",
       "      <td>13459600</td>\n",
       "      <td>3.460022</td>\n",
       "    </tr>\n",
       "    <tr>\n",
       "      <th>5206</th>\n",
       "      <td>2025-07-31</td>\n",
       "      <td>302.959991</td>\n",
       "      <td>302.959991</td>\n",
       "      <td>304.609985</td>\n",
       "      <td>302.859985</td>\n",
       "      <td>304.589996</td>\n",
       "      <td>8981000</td>\n",
       "      <td>1.630005</td>\n",
       "    </tr>\n",
       "    <tr>\n",
       "      <th>5207</th>\n",
       "      <td>2025-08-01</td>\n",
       "      <td>309.109985</td>\n",
       "      <td>309.109985</td>\n",
       "      <td>309.549988</td>\n",
       "      <td>307.450012</td>\n",
       "      <td>308.609985</td>\n",
       "      <td>12843400</td>\n",
       "      <td>-0.500000</td>\n",
       "    </tr>\n",
       "    <tr>\n",
       "      <th>5208</th>\n",
       "      <td>2025-08-04</td>\n",
       "      <td>310.910004</td>\n",
       "      <td>310.910004</td>\n",
       "      <td>311.739990</td>\n",
       "      <td>310.369995</td>\n",
       "      <td>310.799988</td>\n",
       "      <td>7639000</td>\n",
       "      <td>-0.110016</td>\n",
       "    </tr>\n",
       "    <tr>\n",
       "      <th>5209</th>\n",
       "      <td>2025-08-05</td>\n",
       "      <td>311.160004</td>\n",
       "      <td>311.160004</td>\n",
       "      <td>312.239990</td>\n",
       "      <td>310.220001</td>\n",
       "      <td>310.369995</td>\n",
       "      <td>6997700</td>\n",
       "      <td>-0.790009</td>\n",
       "    </tr>\n",
       "    <tr>\n",
       "      <th>5210</th>\n",
       "      <td>2025-08-06</td>\n",
       "      <td>310.500000</td>\n",
       "      <td>310.500000</td>\n",
       "      <td>311.239990</td>\n",
       "      <td>309.839996</td>\n",
       "      <td>310.320007</td>\n",
       "      <td>7418200</td>\n",
       "      <td>-0.179993</td>\n",
       "    </tr>\n",
       "    <tr>\n",
       "      <th>5211</th>\n",
       "      <td>2025-08-07</td>\n",
       "      <td>313.119995</td>\n",
       "      <td>313.119995</td>\n",
       "      <td>313.140015</td>\n",
       "      <td>310.700012</td>\n",
       "      <td>311.720001</td>\n",
       "      <td>10891500</td>\n",
       "      <td>-1.399994</td>\n",
       "    </tr>\n",
       "    <tr>\n",
       "      <th>5212</th>\n",
       "      <td>2025-08-08</td>\n",
       "      <td>313.049988</td>\n",
       "      <td>313.049988</td>\n",
       "      <td>313.529999</td>\n",
       "      <td>311.000000</td>\n",
       "      <td>312.350006</td>\n",
       "      <td>19886800</td>\n",
       "      <td>-0.699982</td>\n",
       "    </tr>\n",
       "    <tr>\n",
       "      <th>5213</th>\n",
       "      <td>2025-08-11</td>\n",
       "      <td>308.549988</td>\n",
       "      <td>308.549988</td>\n",
       "      <td>309.660004</td>\n",
       "      <td>307.630005</td>\n",
       "      <td>308.619995</td>\n",
       "      <td>10326700</td>\n",
       "      <td>0.070007</td>\n",
       "    </tr>\n",
       "    <tr>\n",
       "      <th>5214</th>\n",
       "      <td>2025-08-12</td>\n",
       "      <td>308.269989</td>\n",
       "      <td>308.269989</td>\n",
       "      <td>309.309998</td>\n",
       "      <td>306.709991</td>\n",
       "      <td>308.220001</td>\n",
       "      <td>9697400</td>\n",
       "      <td>-0.049988</td>\n",
       "    </tr>\n",
       "  </tbody>\n",
       "</table>\n",
       "</div>"
      ],
      "text/plain": [
       "            date        open        high         low       close   adj_close  \\\n",
       "5195  2025-07-16  308.260010  308.260010  311.089996  305.730011  307.109985   \n",
       "5196  2025-07-17  307.589996  307.589996  307.670013  305.119995  305.500000   \n",
       "5197  2025-07-18  308.390015  308.390015  309.369995  308.320007  309.239990   \n",
       "5198  2025-07-21  313.130005  313.130005  313.309998  311.609985  311.880005   \n",
       "5199  2025-07-22  316.100006  316.100006  316.239990  313.619995  314.480011   \n",
       "5200  2025-07-23  312.179993  312.179993  314.959991  311.420013  314.000000   \n",
       "5201  2025-07-24  310.269989  310.269989  310.989990  309.059998  309.290009   \n",
       "5202  2025-07-25  307.399994  307.399994  308.309998  306.200012  307.820007   \n",
       "5203  2025-07-28  305.410004  305.410004  306.579987  304.049988  306.440002   \n",
       "5204  2025-07-29  306.250000  306.250000  307.029999  304.989990  305.799988   \n",
       "5205  2025-07-30  300.959991  300.959991  304.649994  300.959991  304.420013   \n",
       "5206  2025-07-31  302.959991  302.959991  304.609985  302.859985  304.589996   \n",
       "5207  2025-08-01  309.109985  309.109985  309.549988  307.450012  308.609985   \n",
       "5208  2025-08-04  310.910004  310.910004  311.739990  310.369995  310.799988   \n",
       "5209  2025-08-05  311.160004  311.160004  312.239990  310.220001  310.369995   \n",
       "5210  2025-08-06  310.500000  310.500000  311.239990  309.839996  310.320007   \n",
       "5211  2025-08-07  313.119995  313.119995  313.140015  310.700012  311.720001   \n",
       "5212  2025-08-08  313.049988  313.049988  313.529999  311.000000  312.350006   \n",
       "5213  2025-08-11  308.549988  308.549988  309.660004  307.630005  308.619995   \n",
       "5214  2025-08-12  308.269989  308.269989  309.309998  306.709991  308.220001   \n",
       "\n",
       "        volume  daily_change  \n",
       "5195  17693100     -1.150024  \n",
       "5196   6642300     -2.089996  \n",
       "5197   5574300      0.849976  \n",
       "5198  10995800     -1.250000  \n",
       "5199  13691800     -1.619995  \n",
       "5200  10547500      1.820007  \n",
       "5201   7698800     -0.979980  \n",
       "5202   9376400      0.420013  \n",
       "5203   9275400      1.029999  \n",
       "5204   5741100     -0.450012  \n",
       "5205  13459600      3.460022  \n",
       "5206   8981000      1.630005  \n",
       "5207  12843400     -0.500000  \n",
       "5208   7639000     -0.110016  \n",
       "5209   6997700     -0.790009  \n",
       "5210   7418200     -0.179993  \n",
       "5211  10891500     -1.399994  \n",
       "5212  19886800     -0.699982  \n",
       "5213  10326700      0.070007  \n",
       "5214   9697400     -0.049988  "
      ]
     },
     "execution_count": 139,
     "metadata": {},
     "output_type": "execute_result"
    }
   ],
   "source": [
    "df[\"daily_change\"] = df[\"adj_close\"] - df[\"open\"]\n",
    "df[-20:]"
   ]
  },
  {
   "cell_type": "code",
   "execution_count": 126,
   "id": "fd55465d-82a2-40a6-82e6-8712c10a1216",
   "metadata": {},
   "outputs": [
    {
     "name": "stdout",
     "output_type": "stream",
     "text": [
      "8.900009155273438\n",
      "-8.349998474121094\n"
     ]
    }
   ],
   "source": [
    "max_increase = df[\"daily_change\"].max()\n",
    "print(max_increase)\n",
    "max_decrease = df[\"daily_change\"].min()\n",
    "print(max_decrease)"
   ]
  },
  {
   "cell_type": "code",
   "execution_count": 137,
   "id": "93104e47-29f6-4edd-a4a0-6a7c3ac86c54",
   "metadata": {},
   "outputs": [
    {
     "name": "stdout",
     "output_type": "stream",
     "text": [
      "biggest increase (adjusted) occurred on: 2012-02-29\n",
      "biggest drop (adjusted) occurred on: 2008-09-17\n"
     ]
    }
   ],
   "source": [
    "max_increase_day = df[\"date\"][df[\"daily_change\"]==max_increase]\n",
    "print(\"biggest increase (adjusted) occurred on:\",*max_increase_day.values)\n",
    "max_decrease_day = df[\"date\"][df[\"daily_change\"]==max_decrease]\n",
    "print(\"biggest drop (adjusted) occurred on:\",*max_decrease_day.values)"
   ]
  },
  {
   "cell_type": "code",
   "execution_count": 138,
   "id": "6bd03538-223b-4228-a76f-8b53fa3a1b2c",
   "metadata": {},
   "outputs": [
    {
     "name": "stdout",
     "output_type": "stream",
     "text": [
      "mean_daily_change: -0.0017851386065681942\n",
      "std_dev_daily_change: 0.9651084228660866\n"
     ]
    }
   ],
   "source": [
    "mean_daily_change = df[\"daily_change\"].mean()\n",
    "print(\"mean_daily_change:\", mean_daily_change)\n",
    "\n",
    "std_dev_daily_change = df[\"daily_change\"].std()\n",
    "print(\"std_dev_daily_change:\", std_dev_daily_change)"
   ]
  },
  {
   "cell_type": "code",
   "execution_count": 143,
   "id": "41643304-53cf-4fd8-a551-440edb69a788",
   "metadata": {},
   "outputs": [
    {
     "data": {
      "image/png": "[encoded data removed]",
      "text/plain": [
       "<Figure size 640x480 with 1 Axes>"
      ]
     },
     "metadata": {},
     "output_type": "display_data"
    }
   ],
   "source": [
    "import matplotlib.pyplot as plt\n",
    "plt.plot(pd.to_datetime(df[\"date\"]), df[\"adj_close\"])\n",
    "plt.show()"
   ]
  },
  {
   "cell_type": "code",
   "execution_count": null,
   "id": "f4548d7f-e2d5-46c6-8401-7de333170ea3",
   "metadata": {},
   "outputs": [],
   "source": []
  }
 ],
 "metadata": {
  "kernelspec": {
   "display_name": "Python 3 (ipykernel)",
   "language": "python",
   "name": "python3"
  },
  "language_info": {
   "codemirror_mode": {
    "name": "ipython",
    "version": 3
   },
   "file_extension": ".py",
   "mimetype": "text/x-python",
   "name": "python",
   "nbconvert_exporter": "python",
   "pygments_lexer": "ipython3",
   "version": "3.13.7"
  }
 },
 "nbformat": 4,
 "nbformat_minor": 5
}
