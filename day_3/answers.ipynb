{
 "cells": [
  {
   "cell_type": "markdown",
   "id": "cf08f73a",
   "metadata": {},
   "source": [
    "# 💰 NumPy Data Analysis with Gold Prices — Solutions"
   ]
  },
  {
   "cell_type": "code",
   "execution_count": 1,
   "id": "d2341ce0",
   "metadata": {},
   "outputs": [],
   "source": [
    "import pandas as pd\n",
    "import numpy as np\n",
    "\n",
    "# Load dataset\n",
    "df = pd.read_csv(\"gold_price_data.csv\")\n",
    "\n",
    "# Extract the 'close' column as a NumPy array\n",
    "close_prices = df[\"close\"].to_numpy()"
   ]
  },
  {
   "cell_type": "markdown",
   "id": "17b7e0e2",
   "metadata": {},
   "source": [
    "## 1️⃣ Basic Statistics — Solutions"
   ]
  },
  {
   "cell_type": "code",
   "execution_count": 2,
   "id": "e8091525",
   "metadata": {},
   "outputs": [
    {
     "name": "stdout",
     "output_type": "stream",
     "text": [
      "Mean closing price: 131.25655610915683\n",
      "Median closing price: 123.9800033569336\n",
      "Standard deviation: 51.06827818298171\n",
      "Maximum closing price: 315.0400085449219\n",
      "Minimum closing price: 41.02000045776367\n",
      "Range of closing prices: 274.0200080871582\n",
      "Days with maximum closing price: [5174]\n"
     ]
    }
   ],
   "source": [
    "print(\"Mean closing price:\", np.mean(close_prices))\n",
    "print(\"Median closing price:\", np.median(close_prices))\n",
    "print(\"Standard deviation:\", np.std(close_prices))\n",
    "print(\"Maximum closing price:\", np.max(close_prices))\n",
    "print(\"Minimum closing price:\", np.min(close_prices))\n",
    "\n",
    "# ✅ Exercise Solution: Range of prices\n",
    "price_range = np.max(close_prices) - np.min(close_prices)\n",
    "print(\"Range of closing prices:\", price_range)\n",
    "\n",
    "# ✅ Exercise Solution: Days with max price\n",
    "max_price = np.max(close_prices)\n",
    "days_with_max = np.where(close_prices == max_price)[0]\n",
    "print(\"Days with maximum closing price:\", days_with_max)"
   ]
  },
  {
   "cell_type": "markdown",
   "id": "db152a44",
   "metadata": {},
   "source": [
    "## 2️⃣ Slicing & Reshaping — Solutions"
   ]
  },
  {
   "cell_type": "code",
   "execution_count": 3,
   "id": "a1c1dcfb",
   "metadata": {},
   "outputs": [
    {
     "name": "stdout",
     "output_type": "stream",
     "text": [
      "Monthly averages: [ 44.20300013  42.03800011  43.14733327  42.71400032  42.26900024\n",
      "  42.60666682  44.02066663  46.49866676  48.33733317  52.5733331\n",
      "  54.91833318  57.74733353  65.32533315  59.83199984  62.07333349\n",
      "  58.1450002   60.47433345  61.83700027  64.35366694  64.85199979\n",
      "  66.72199987  64.58866679  65.6473334   68.42299957  75.40299962\n",
      "  78.51300049  86.75600052  93.25633341  89.04766668  87.08766632\n",
      "  90.9759992   80.69900004  80.99566676  73.38633296  81.90633341\n",
      "  90.25600001  88.83499959  89.84766668  91.54433339  92.53233414\n",
      "  97.01366577 104.76500041 110.55799967 107.5840004  108.42366664\n",
      " 113.46066538 118.88000056 116.51133347 120.84733302 129.59933319\n",
      " 133.88000031 133.27666728 134.82533366 140.67366689 147.19100037\n",
      " 149.45099996 167.21633301 166.45466715 166.01200053 158.68066661\n",
      " 165.71033274 162.02800039 157.05933431 153.48133291 154.20433197\n",
      " 164.79066518 168.00966593 164.64433339 161.12766622 154.04533183\n",
      " 143.60199992 134.06566671 122.98866653 130.47166672 126.38533351\n",
      " 122.56066767 118.07699992 124.61666768 126.61666667 123.43866628\n",
      " 124.53700078 124.57066752 118.21966654 114.87933375 114.51800054\n",
      " 119.50666606 113.35999985 114.51499939 113.58366597 107.16900024\n",
      " 107.460333   109.81433309 102.45       104.02200012 116.37799962\n",
      " 117.79333394 119.50900014 125.24466654 127.17333323 123.7259997\n",
      " 118.36533356 110.06966629 116.05699946 117.38233337 119.05466665\n",
      " 119.11466649 119.12833354 123.86966731 121.19166641 120.37199961\n",
      " 125.59166692 125.50066579 125.7246666  122.58500036 117.27599996\n",
      " 113.15333354 114.04533386 115.55266647 120.19100011 123.58433431\n",
      " 122.11733398 121.20766729 130.01200078 138.63133494 141.16200104\n",
      " 139.26500092 140.02099915 147.50933329 148.97766673 159.22966715\n",
      " 162.1043335  176.3506663  181.07600047 177.60733287 173.1143336\n",
      " 174.35333405 164.375      163.2143336  173.64533335 167.60866445\n",
      " 166.98033346 164.58133291 168.57633413 167.3789978  171.66733348\n",
      " 180.62399953 174.84833323 169.17333425 162.47899933 157.18966675\n",
      " 155.39399923 165.16700033 175.09399974 173.96566772 185.12033539\n",
      " 181.59600067 179.82200114 177.42999929 176.55133311 184.12633311\n",
      " 188.1030014  189.80366821 208.88133392 216.11433411 217.11033274\n",
      " 225.57833455 239.39933268 246.89533234 243.28766581 260.16333516\n",
      " 274.76499837 300.72966614 306.46266378]\n",
      "First month avg: 44.20300013224284\n",
      "Last month avg: 306.46266377766926\n"
     ]
    }
   ],
   "source": [
    "# Reshape into chunks of 30 days\n",
    "reshaped = close_prices[:len(close_prices)//30*30].reshape(-1, 30)\n",
    "\n",
    "# ✅ Exercise Solution: Average per month\n",
    "monthly_averages = np.mean(reshaped, axis=1)\n",
    "print(\"Monthly averages:\", monthly_averages)\n",
    "\n",
    "# ✅ Compare first & last month averages\n",
    "print(\"First month avg:\", monthly_averages[0])\n",
    "print(\"Last month avg:\", monthly_averages[-1])"
   ]
  },
  {
   "cell_type": "markdown",
   "id": "8ca67649",
   "metadata": {},
   "source": [
    "## 3️⃣ Price Differences — Solutions"
   ]
  },
  {
   "cell_type": "code",
   "execution_count": 4,
   "id": "2f418d48",
   "metadata": {},
   "outputs": [
    {
     "name": "stdout",
     "output_type": "stream",
     "text": [
      "Largest single-day increase: 11.220001220703125\n",
      "Largest single-day decrease: -12.919998168945312\n",
      "Day index of largest increase: 5135 price: 313.95001220703125\n",
      "Day index of largest decrease: 2112 price: 130.50999450683594\n"
     ]
    }
   ],
   "source": [
    "daily_diff = np.diff(close_prices)\n",
    "\n",
    "# ✅ Largest increase & decrease\n",
    "max_increase = np.max(daily_diff)\n",
    "max_decrease = np.min(daily_diff)\n",
    "print(\"Largest single-day increase:\", max_increase)\n",
    "print(\"Largest single-day decrease:\", max_decrease)\n",
    "\n",
    "# ✅ Day of largest increase\n",
    "day_increase = np.argmax(daily_diff)\n",
    "print(\"Day index of largest increase:\", day_increase, \"price:\", close_prices[day_increase+1])\n",
    "\n",
    "# ✅ Day of largest decrease\n",
    "day_decrease = np.argmin(daily_diff)\n",
    "print(\"Day index of largest decrease:\", day_decrease, \"price:\", close_prices[day_decrease+1])"
   ]
  },
  {
   "cell_type": "markdown",
   "id": "16891ee9",
   "metadata": {},
   "source": [
    "## 4️⃣ Simple Trend Visualization — Solutions"
   ]
  },
  {
   "cell_type": "code",
   "execution_count": 5,
   "id": "2882b67f",
   "metadata": {},
   "outputs": [
    {
     "name": "stdout",
     "output_type": "stream",
     "text": [
      "\n",
      "Gold Price Trend (first 30 days):\n",
      "Day 1: $$$$ (44.06999969482422) \n",
      "Day 2: $$$$ (44.470001220703125) \n",
      "Day 3: $$$$ (44.7400016784668) \n",
      "Day 4: $$$$ (44.720001220703125) \n",
      "Day 5: $$$$ (44.790000915527344) \n",
      "Day 6: $$$$ (45.060001373291016) \n",
      "Day 7: $$$$ (45.08000183105469) \n",
      "Day 8: $$$$ (44.81999969482422) \n",
      "Day 9: $$$$ (45.2599983215332) \n",
      "Day 10: $$$$ (44.68000030517578) \n",
      "Day 11: $$$$ (44.79999923706055) \n",
      "Day 12: $$$$ (45.11000061035156) \n",
      "Day 13: $$$$ (45.06999969482422) \n",
      "Day 14: $$$$ (43.36000061035156) \n",
      "Day 15: $$$$ (43.20000076293945) \n",
      "Day 16: $$$$ (43.310001373291016) \n",
      "Day 17: $$$$ (43.5099983215332) \n",
      "Day 18: $$$$ (43.5099983215332) \n",
      "Day 19: $$$$ (43.91999816894531) \n",
      "Day 20: $$$$ (43.58000183105469) \n",
      "Day 21: $$$$ (43.77999877929688) \n",
      "Day 22: $$$$ (44.130001068115234) \n",
      "Day 23: $$$$ (44.04999923706055) \n",
      "Day 24: $$$$ (43.88999938964844) \n",
      "Day 25: $$$$ (44.04999923706055) \n",
      "Day 26: $$$$ (44.27000045776367) \n",
      "Day 27: $$$$ (44.290000915527344) \n",
      "Day 28: $$$$ (43.34999847412109) \n",
      "Day 29: $$$$ (43.4900016784668) \n",
      "Day 30: $$$$ (43.72999954223633) \n",
      "\n",
      "Gold Price Trend (last 30 days):\n",
      "Day 1: $$$$$$$$$$$$$$$$$$$$$$$$$$$$$$ (307.3599853515625) *\n",
      "Day 2: $$$$$$$$$$$$$$$$$$$$$$$$$$$$$$ (306.9599914550781) *\n",
      "Day 3: $$$$$$$$$$$$$$$$$$$$$$$$$$$$$$ (306.1499938964844) *\n",
      "Day 4: $$$$$$$$$$$$$$$$$$$$$$$$$$$$$$ (304.5299987792969) *\n",
      "Day 5: $$$$$$$$$$$$$$$$$$$$$$$$$$$$$$ (302.7699890136719) *\n",
      "Day 6: $$$$$$$$$$$$$$$$$$$$$$$$$$$$$$ (303.2300109863281) *\n",
      "Day 7: $$$$$$$$$$$$$$$$$$$$$$$$$$$$$$ (304.82000732421875) *\n",
      "Day 8: $$$$$$$$$$$$$$$$$$$$$$$$$$$$$$ (308.5199890136719) *\n",
      "Day 9: $$$$$$$$$$$$$$$$$$$$$$$$$$$$$$ (307.7300109863281) *\n",
      "Day 10: $$$$$$$$$$$$$$$$$$$$$$$$$$$$$$ (305.7900085449219) *\n",
      "Day 11: $$$$$$$$$$$$$$$$$$$$$$$$$$$$$$ (305.7300109863281) *\n",
      "Day 12: $$$$$$$$$$$$$$$$$$$$$$$$$$$$$$ (305.1199951171875) *\n",
      "Day 13: $$$$$$$$$$$$$$$$$$$$$$$$$$$$$$ (308.32000732421875) *\n",
      "Day 14: $$$$$$$$$$$$$$$$$$$$$$$$$$$$$$$ (311.6099853515625) *\n",
      "Day 15: $$$$$$$$$$$$$$$$$$$$$$$$$$$$$$$ (313.6199951171875) *\n",
      "Day 16: $$$$$$$$$$$$$$$$$$$$$$$$$$$$$$$ (311.4200134277344) *\n",
      "Day 17: $$$$$$$$$$$$$$$$$$$$$$$$$$$$$$ (309.0599975585937) *\n",
      "Day 18: $$$$$$$$$$$$$$$$$$$$$$$$$$$$$$ (306.20001220703125) *\n",
      "Day 19: $$$$$$$$$$$$$$$$$$$$$$$$$$$$$$ (304.04998779296875) *\n",
      "Day 20: $$$$$$$$$$$$$$$$$$$$$$$$$$$$$$ (304.989990234375) *\n",
      "Day 21: $$$$$$$$$$$$$$$$$$$$$$$$$$$$$$ (300.9599914550781) *\n",
      "Day 22: $$$$$$$$$$$$$$$$$$$$$$$$$$$$$$ (302.8599853515625) *\n",
      "Day 23: $$$$$$$$$$$$$$$$$$$$$$$$$$$$$$ (307.45001220703125) *\n",
      "Day 24: $$$$$$$$$$$$$$$$$$$$$$$$$$$$$$$ (310.3699951171875) *\n",
      "Day 25: $$$$$$$$$$$$$$$$$$$$$$$$$$$$$$$ (310.2200012207031) *\n",
      "Day 26: $$$$$$$$$$$$$$$$$$$$$$$$$$$$$$ (309.8399963378906) *\n",
      "Day 27: $$$$$$$$$$$$$$$$$$$$$$$$$$$$$$$ (310.70001220703125) *\n",
      "Day 28: $$$$$$$$$$$$$$$$$$$$$$$$$$$$$$$ (311.0) *\n",
      "Day 29: $$$$$$$$$$$$$$$$$$$$$$$$$$$$$$ (307.6300048828125) *\n",
      "Day 30: $$$$$$$$$$$$$$$$$$$$$$$$$$$$$$ (306.7099914550781) *\n"
     ]
    }
   ],
   "source": [
    "avg_price = np.mean(close_prices)\n",
    "\n",
    "print(\"\\nGold Price Trend (first 30 days):\")\n",
    "for i, price in enumerate(close_prices[:30], start=1):\n",
    "    marker = \"*\" if price > avg_price else \"\"\n",
    "    print(f\"Day {i}: {'$' * int(price//10)} ({price}) {marker}\")\n",
    "\n",
    "# ✅ Try plotting last 30 days instead\n",
    "print(\"\\nGold Price Trend (last 30 days):\")\n",
    "for i, price in enumerate(close_prices[-30:], start=1):\n",
    "    marker = \"*\" if price > avg_price else \"\"\n",
    "    print(f\"Day {i}: {'$' * int(price//10)} ({price}) {marker}\")"
   ]
  },
  {
   "cell_type": "markdown",
   "id": "c7eebc51",
   "metadata": {},
   "source": [
    "## ✅ Wrap-Up\n",
    "- Range, monthly averages, and volatility now computed.\n",
    "- NumPy slicing/reshaping made the dataset manageable.\n",
    "- Learners can now see how **daily fluctuations** and **monthly averages** highlight trends in financial data."
   ]
  }
 ],
 "metadata": {
  "kernelspec": {
   "display_name": "Python 3 (ipykernel)",
   "language": "python",
   "name": "python3"
  },
  "language_info": {
   "codemirror_mode": {
    "name": "ipython",
    "version": 3
   },
   "file_extension": ".py",
   "mimetype": "text/x-python",
   "name": "python",
   "nbconvert_exporter": "python",
   "pygments_lexer": "ipython3",
   "version": "3.13.7"
  }
 },
 "nbformat": 4,
 "nbformat_minor": 5
}
